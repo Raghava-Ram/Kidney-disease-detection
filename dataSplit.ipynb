{
 "cells": [
  {
   "cell_type": "code",
   "execution_count": 1,
   "id": "c97c28d5-0099-4e0a-97ae-97352790a7e5",
   "metadata": {},
   "outputs": [
    {
     "name": "stdout",
     "output_type": "stream",
     "text": [
      "Dataset successfully split into training and testing folders.\n"
     ]
    }
   ],
   "source": [
    "import os\n",
    "import shutil\n",
    "import random\n",
    "\n",
    "# Set paths\n",
    "base_dir = 'CT-KIDNEY-DATASET-Normal-Cyst-Tumor-Stone'\n",
    "output_dir = 'dataset'\n",
    "split_ratio = 0.8  # 80% training, 20% testing\n",
    "\n",
    "# Create output folders\n",
    "for split in ['train', 'test']:\n",
    "    for category in os.listdir(base_dir):\n",
    "        os.makedirs(os.path.join(output_dir, split, category), exist_ok=True)\n",
    "\n",
    "# Split the data\n",
    "for category in os.listdir(base_dir):\n",
    "    category_path = os.path.join(base_dir, category)\n",
    "    images = os.listdir(category_path)\n",
    "    random.shuffle(images)\n",
    "\n",
    "    split_point = int(len(images) * split_ratio)\n",
    "    train_images = images[:split_point]\n",
    "    test_images = images[split_point:]\n",
    "\n",
    "    for img in train_images:\n",
    "        src = os.path.join(category_path, img)\n",
    "        dst = os.path.join(output_dir, 'train', category, img)\n",
    "        shutil.copy(src, dst)\n",
    "\n",
    "    for img in test_images:\n",
    "        src = os.path.join(category_path, img)\n",
    "        dst = os.path.join(output_dir, 'test', category, img)\n",
    "        shutil.copy(src, dst)\n",
    "\n",
    "print(\"Dataset successfully split into training and testing folders.\")\n"
   ]
  }
 ],
 "metadata": {
  "kernelspec": {
   "display_name": "Python [conda env:kidney]",
   "language": "python",
   "name": "conda-env-kidney-py"
  },
  "language_info": {
   "codemirror_mode": {
    "name": "ipython",
    "version": 3
   },
   "file_extension": ".py",
   "mimetype": "text/x-python",
   "name": "python",
   "nbconvert_exporter": "python",
   "pygments_lexer": "ipython3",
   "version": "3.10.16"
  }
 },
 "nbformat": 4,
 "nbformat_minor": 5
}
